{
  "nbformat": 4,
  "nbformat_minor": 0,
  "metadata": {
    "colab": {
      "name": "20-Redes-Neurais(2).ipynb",
      "version": "0.3.2",
      "provenance": [],
      "collapsed_sections": []
    },
    "kernelspec": {
      "display_name": "Python 3",
      "language": "python",
      "name": "python3"
    }
  },
  "cells": [
    {
      "metadata": {
        "id": "FGGBtVyEGcMq",
        "colab_type": "text"
      },
      "cell_type": "markdown",
      "source": [
        "# Parte 0 - Instalação (usando Anaconda Python)\n",
        "\n",
        "Abaixo estão os comandos usados para instalar todas as dependências necessárias para esta aula. Se você não tem uma GPU NVidia troque `tensorflow-gpu` por `tensorflow`.\n",
        "\n",
        "    > conda create -n CV-NN python=3.6\n",
        "    > conda activate CV-NN\n",
        "    > conda install tensorflow-gpu scikit-learn jupyter[notebook] numpy keras\n",
        "\n",
        "Os comandos acima criam um ambiente virtual com Python 3.6 (3.7 não funciona ainda). Isto não é necessário, mas pode ser interessante para organizar melhor as dependências dos seus projetos. Uma vantagem de usar o Anaconda é que ele já instala o CUDA SDK automaticamente (no caso de usar `tensorflow-gpu`). \n",
        "\n",
        "# Parte 1 - Classificação categórica\n",
        "\n",
        "Na última atividade vimos um exemplo de **classificação binária**, em que classificamos imagens em pertencendo ou não a uma classe (*cachorros* vs *faces*). Nesta atividade exercitaremos a classificação em categorias e para isto usaremos um modelo que se adapta bem a este tipo de situação: *Regressão logística* e a *entropia categórica*.\n",
        "\n",
        "Além do scikit-learn, usado no roteiro passado, neste roteiro usaremos também a biblioteca [keras](http://keras.io) para treinar redes neurais que façam a classificação categórica de imagens de dígitos manuscritos. Veja abaixo o código para carregar os dados e um exemplo de imagem que usaremos."
      ]
    },
    {
      "metadata": {
        "id": "UjbNd8iHGcMt",
        "colab_type": "code",
        "colab": {
          "base_uri": "https://localhost:8080/",
          "height": 337
        },
        "outputId": "1f268cb4-53c6-4aa6-df83-fed1fe604cd1"
      },
      "cell_type": "code",
      "source": [
        "from keras.datasets import mnist\n",
        "import matplotlib.pyplot as plt\n",
        "import numpy as np\n",
        "%matplotlib inline\n",
        "\n",
        "(X, y), (Xt, yt) = mnist.load_data()\n",
        "print('# Imagens:', y.shape[0])\n",
        "print('Tamanho:', X[0].shape)\n",
        "print('Primeiro número:', y[0])\n",
        "plt.imshow(X[0], cmap='gray')"
      ],
      "execution_count": 24,
      "outputs": [
        {
          "output_type": "stream",
          "text": [
            "# Imagens: 60000\n",
            "Tamanho: (28, 28)\n",
            "Primeiro número: 5\n"
          ],
          "name": "stdout"
        },
        {
          "output_type": "execute_result",
          "data": {
            "text/plain": [
              "<matplotlib.image.AxesImage at 0x7fce60829208>"
            ]
          },
          "metadata": {
            "tags": []
          },
          "execution_count": 24
        },
        {
          "output_type": "display_data",
          "data": {
            "image/png": "[encoded data removed]",
            "text/plain": [
              "<matplotlib.figure.Figure at 0x7fce608640f0>"
            ]
          },
          "metadata": {
            "tags": []
          }
        }
      ]
    },
    {
      "metadata": {
        "id": "Mj6mWQOZGcMw",
        "colab_type": "text"
      },
      "cell_type": "markdown",
      "source": [
        "Assim como na Atividade 3, dividimos as imagens disponíveis em um conjunto conhecido que usaremos para o treinamento de nossa rede (`X` e `y`) e um conjunto que só usaremos para avaliação (`Xt, yt`). Isto ajuda a não subestimar o erro em imagens desconhecidas. \n",
        "\n",
        "Nesta primeira parte iremos criar um modelo diretamente usando Regressão Logística. Para isto precisamos \"deitar\" a matriz da imagem $28\\times 28$ em um grande vetor de dimensão $784$. \n",
        "\n",
        "**Exercício**: Faça isto abaixo e salve os dados transformados como `Xlr` e `Xtlr`."
      ]
    },
    {
      "metadata": {
        "id": "qUxBRinBGcMy",
        "colab_type": "code",
        "colab": {}
      },
      "cell_type": "code",
      "source": [
        "Xlr = np.reshape(X, (X.shape[0], -1))\n",
        "Xtlr = np.reshape(Xt, (Xt.shape[0], -1))"
      ],
      "execution_count": 0,
      "outputs": []
    },
    {
      "metadata": {
        "id": "56-9QUJgKN59",
        "colab_type": "code",
        "colab": {
          "base_uri": "https://localhost:8080/",
          "height": 89
        },
        "outputId": "6c382b98-7c0f-46e5-8fd8-1ca64a40c554"
      },
      "cell_type": "code",
      "source": [
        "print(X.shape)\n",
        "print(Xt.shape)\n",
        "print(Xlr.shape)\n",
        "print(Xtlr.shape)"
      ],
      "execution_count": 3,
      "outputs": [
        {
          "output_type": "stream",
          "text": [
            "(60000, 28, 28)\n",
            "(10000, 28, 28)\n",
            "(60000, 784)\n",
            "(10000, 784)\n"
          ],
          "name": "stdout"
        }
      ]
    },
    {
      "metadata": {
        "id": "_ViVicTmGcM0",
        "colab_type": "text"
      },
      "cell_type": "markdown",
      "source": [
        "A classe `sklearn.linear_model.LogisticRegression` é capaz de lidar com os rótulos das classes diretamente. Basta enviar o vetor `y` diretamente para a função de treinamento. \n",
        "\n",
        "**Dica**: para usarmos o modelo visto em sala de aula precisamos setar o parâmetro `multi_class` como `'multinomial'`. O treinamento é mais rápido se usarmos o solver `'saga'`\n",
        "\n",
        "**Aviso**: o treinamento do modelo abaixo demora cerca de 5 minutos."
      ]
    },
    {
      "metadata": {
        "id": "4IN8zmcgGcM2",
        "colab_type": "code",
        "colab": {}
      },
      "cell_type": "code",
      "source": [
        "from sklearn.linear_model import LogisticRegression\n",
        "clf = LogisticRegression(random_state=0, solver='lbfgs',\n",
        "                         multi_class='multinomial').fit(Xlr, y)"
      ],
      "execution_count": 0,
      "outputs": []
    },
    {
      "metadata": {
        "id": "0DkZC9IzNwyM",
        "colab_type": "code",
        "colab": {
          "base_uri": "https://localhost:8080/",
          "height": 251
        },
        "outputId": "027f21cd-877b-4042-a9b4-2dd23a0da7d7"
      },
      "cell_type": "code",
      "source": [
        "clf.predict(Xlr)\n",
        "clf.predict_proba(Xlr)"
      ],
      "execution_count": 11,
      "outputs": [
        {
          "output_type": "execute_result",
          "data": {
            "text/plain": [
              "array([[7.16459493e-05, 3.00345452e-08, 2.77553666e-04, ...,\n",
              "        1.20122874e-05, 8.02824456e-05, 4.78367568e-05],\n",
              "       [9.99992984e-01, 2.13118921e-13, 5.46192547e-07, ...,\n",
              "        2.36443495e-08, 1.17459627e-06, 1.12075176e-06],\n",
              "       [1.34116093e-04, 1.41588004e-06, 9.73634245e-02, ...,\n",
              "        5.91785079e-03, 2.16417566e-03, 5.26331051e-03],\n",
              "       ...,\n",
              "       [6.96315900e-06, 1.89078981e-06, 2.25057415e-07, ...,\n",
              "        1.06942422e-07, 4.84165445e-03, 1.13563865e-05],\n",
              "       [5.44389764e-03, 2.24325421e-07, 2.20523492e-03, ...,\n",
              "        1.25848267e-04, 1.80830367e-04, 5.16890014e-04],\n",
              "       [7.44762908e-02, 2.39218152e-08, 4.49378651e-04, ...,\n",
              "        2.86058331e-06, 9.08063414e-01, 1.60662273e-03]])"
            ]
          },
          "metadata": {
            "tags": []
          },
          "execution_count": 11
        }
      ]
    },
    {
      "metadata": {
        "id": "zGteeMnEP2Qb",
        "colab_type": "code",
        "colab": {
          "base_uri": "https://localhost:8080/",
          "height": 35
        },
        "outputId": "47462521-8dc4-4087-ad74-6e02801ed366"
      },
      "cell_type": "code",
      "source": [
        "clf.score(Xlr, y)"
      ],
      "execution_count": 12,
      "outputs": [
        {
          "output_type": "execute_result",
          "data": {
            "text/plain": [
              "0.9340666666666667"
            ]
          },
          "metadata": {
            "tags": []
          },
          "execution_count": 12
        }
      ]
    },
    {
      "metadata": {
        "id": "lr9UyLkmGcM4",
        "colab_type": "text"
      },
      "cell_type": "markdown",
      "source": [
        "Como visto na expositiva, a *Regressão Logística* estima a probabilidade que um objeto seja de uma determinada classe. No caso dos dígitos temos 10 classes (`0` a `9`), logo nossa saída deverá ter dimensão 10 e cada componente deverá conter a probabilidade da imagem ter o dígito correspondente. \n",
        "\n",
        "O método `predict_proba(X)` calcula a probabilidade de cada classe para um conjunto de imagens passado em `X` (um por linha). \n",
        "\n",
        "**Pergunta**: suponha que seu classificador retornou, para a imagem acima, o seguinte vetor ao chamar `predict_proba`:\n",
        "\n",
        "`[0, 0, 0, 0, 0, 0.6, 0.3, 0, 0, 0.1]`\n",
        "\n",
        "Interprete o resultado obtido."
      ]
    },
    {
      "metadata": {
        "id": "C5Kaym2fGcM5",
        "colab_type": "text"
      },
      "cell_type": "markdown",
      "source": [
        "Cada elemento do vetor acima é a probabilidade da imagem representar cada dígito. Como podemos ver, a maior probabilidade é que a imagem represente o dígito 5."
      ]
    },
    {
      "metadata": {
        "id": "QoPk2yv9GcM6",
        "colab_type": "text"
      },
      "cell_type": "markdown",
      "source": [
        "**Exercício**: Assim como feito na atividade 3, avalie os resultados de seu classificador usando a função `score` e comente os resultados."
      ]
    },
    {
      "metadata": {
        "id": "iyGjZkP3GcM7",
        "colab_type": "code",
        "colab": {
          "base_uri": "https://localhost:8080/",
          "height": 35
        },
        "outputId": "d7301f26-0016-47a1-ee78-eb41b94def85"
      },
      "cell_type": "code",
      "source": [
        "clf.predict(Xtlr)\n",
        "clf.predict_proba(Xtlr)\n",
        "clf.score(Xtlr, yt)"
      ],
      "execution_count": 15,
      "outputs": [
        {
          "output_type": "execute_result",
          "data": {
            "text/plain": [
              "0.9252"
            ]
          },
          "metadata": {
            "tags": []
          },
          "execution_count": 15
        }
      ]
    },
    {
      "metadata": {
        "id": "muwntBSlGcM-",
        "colab_type": "text"
      },
      "cell_type": "markdown",
      "source": [
        "Como tivemos um score de 0.9252, podemos concluir que nosso classificador está avaliando bem as imagens, porque ele está acertando em mais de 90% dos casos."
      ]
    },
    {
      "metadata": {
        "id": "qNUjy5HRGcM_",
        "colab_type": "text"
      },
      "cell_type": "markdown",
      "source": [
        "**Exercício**: Suponha que você precisa ler um número de 5 dígitos. Usando o classificador acima, qual seria a probabilidade de que este número seja lido corretamente? Este resultado é satisfatório?"
      ]
    },
    {
      "metadata": {
        "id": "NqsqsMcPR3yD",
        "colab_type": "code",
        "colab": {
          "base_uri": "https://localhost:8080/",
          "height": 35
        },
        "outputId": "61834e65-122e-487d-dc37-f1a1d037e076"
      },
      "cell_type": "code",
      "source": [
        "0.9252**5"
      ],
      "execution_count": 16,
      "outputs": [
        {
          "output_type": "execute_result",
          "data": {
            "text/plain": [
              "0.6779194908684575"
            ]
          },
          "metadata": {
            "tags": []
          },
          "execution_count": 16
        }
      ]
    },
    {
      "metadata": {
        "id": "kswWKquvGcNA",
        "colab_type": "text"
      },
      "cell_type": "markdown",
      "source": [
        "A probabilide de que o número de 5 dígitos seja lido corretamente acaba sendo prejudicada, visto que o classificador precisa acertar os 5 dígitos corretamente. No nosso caso, a probabilidade cairia para 0.6779, porém, ainda seria um resultado satisfatório, visto que está maior que 60% dos casos."
      ]
    },
    {
      "metadata": {
        "id": "rAlXuTCwGcNB",
        "colab_type": "text"
      },
      "cell_type": "markdown",
      "source": [
        "# Parte 2 - Redes Neurais Multi-nível"
      ]
    },
    {
      "metadata": {
        "id": "zqbyk5h-GcNC",
        "colab_type": "text"
      },
      "cell_type": "markdown",
      "source": [
        "**Aviso**: nos próximos exercícios usaremos a biblioteca [keras]\n",
        "\n",
        "Nesta parte iremos criar uma rede neural \"simples\" com vários níveis. Diferentemente do classificador do *Scikit-learn*, ao trabalhar com redes neurais precisamos trabalhar com as probabilidades de maneira explícita. Para isto precisamos transformar nosso vetor de saída (que contém o número escrito na imagem) em uma matriz de classes binária.\n",
        "\n",
        "**Exercício**: Pesquise o que é uma matriz de classes binária (também conhecida como *one hot encoding*)"
      ]
    },
    {
      "metadata": {
        "id": "oamj3N4JGcND",
        "colab_type": "text"
      },
      "cell_type": "markdown",
      "source": [
        "Uma matriz de classes binária é uma representação de variáveis categóricas como vetores binários. As variáveis categóricas devem ser mapeadas por valores inteiros para que possa haver uma diferenciação."
      ]
    },
    {
      "metadata": {
        "id": "vEqvlGF-GcNE",
        "colab_type": "text"
      },
      "cell_type": "markdown",
      "source": [
        "**Exercício**: Use a função `to_categorical` do keras para converter `y` para uma matriz de classes binária `y_oe`. Faça o mesmo com `yt`"
      ]
    },
    {
      "metadata": {
        "id": "FBIHPE6QGcNG",
        "colab_type": "code",
        "colab": {}
      },
      "cell_type": "code",
      "source": [
        "from keras.utils import to_categorical\n",
        "y_oe = to_categorical(y, num_classes=10) #10 classes porque são 10 dígitos\n",
        "yt_oe = to_categorical(yt, num_classes=10)"
      ],
      "execution_count": 0,
      "outputs": []
    },
    {
      "metadata": {
        "id": "LN_a64mjGcNL",
        "colab_type": "text"
      },
      "cell_type": "markdown",
      "source": [
        "**Exercício**: os dados das imagens estão no intervalo $[0,255]$. Transforme-os para estarem no intervalor $[0, 1]$. Redes neurais tem melhor desempenho no intervalo menor. Salve os dados como `Xnn` e `Xtnn`"
      ]
    },
    {
      "metadata": {
        "id": "Lqtx7KSJGcNN",
        "colab_type": "code",
        "colab": {}
      },
      "cell_type": "code",
      "source": [
        "Xnn = Xlr/255\n",
        "Xtnn = Xtlr/255"
      ],
      "execution_count": 0,
      "outputs": []
    },
    {
      "metadata": {
        "id": "LU-87FK3GcNQ",
        "colab_type": "text"
      },
      "cell_type": "markdown",
      "source": [
        "Nossa rede neural irá retornar, como saída, um vetor de dimensão 10 igual as linhas de `y_oe`.\n",
        "\n",
        "----\n",
        "\n",
        "Vamos agora construir a arquitetura de nossa rede neural. Seguiremos as seguintes instruções:\n",
        "\n",
        "1. Nosso modelo será representado pela classe `Sequential`, que é uma lista de camadas tal que a saída de uma camada é passada diretamente para a próxima.\n",
        "1. Cada camada será do tipo `Dense`, ou seja, cada nó da camada está ligado a todos os nós da camada anterior. A função de ativação usada será `'relu'.`\n",
        "1. A saída será uma camada `Dense` também, mas com ativação `'softmax'`. Esta função de ativação computa as mesmas probabilidades da Regressão Logística.\n",
        "\n",
        "\n",
        "**Exercício**: instancie um objeto de `Sequential` e use seu método `add()` para adicionar uma camada densa de tamanho $784$ e uma camada densa de saída. \n",
        "\n",
        "**Dica**: \n",
        "1. veja as documentações das classes [`Sequential`](https://keras.io/getting-started/sequential-model-guide/) e [`Dense`](https://keras.io/layers/core/#dense). As possíveis funções de ativação são mostradas [neste link](https://keras.io/activations/). \n",
        "2. Ao adicionar a primeira camada é preciso dizer qual é o tamanho da entrada da rede. Isto pode ser feito usando o argumento `input_dim` de `Dense()`\n",
        "2. `Sequential.add()` é capaz de adivinhar o tamanho da entrada das próximas camadas baseado nos parâmetros passados. \n",
        "3. A camada de saída deve ter tamanho igual ao número de classes usadas (10, uma para cada dígito)."
      ]
    },
    {
      "metadata": {
        "id": "B7PMOHNtGcNR",
        "colab_type": "code",
        "colab": {}
      },
      "cell_type": "code",
      "source": [
        "from keras.models import Sequential\n",
        "from keras.layers import Dense, Activation\n",
        "\n",
        "model = Sequential()\n",
        "model.add(Dense(784, input_dim=784))\n",
        "model.add(Activation('relu'))\n",
        "model.add(Dense(10, activation='softmax'))\n"
      ],
      "execution_count": 0,
      "outputs": []
    },
    {
      "metadata": {
        "id": "zBqxtMVoGcNU",
        "colab_type": "text"
      },
      "cell_type": "markdown",
      "source": [
        "Com nosso modelo pronto precisamos definir quais serão as opções usadas em seu treinamento. Fazemos isto com o método `compile`. A chamada abaixo já foi configurada supondo que sua rede se chama `model`."
      ]
    },
    {
      "metadata": {
        "id": "i3-TbLD3GcNW",
        "colab_type": "code",
        "colab": {}
      },
      "cell_type": "code",
      "source": [
        "# For a multi-class classification problem\n",
        "model.compile(optimizer='rmsprop',\n",
        "              loss='categorical_crossentropy',\n",
        "              metrics=['accuracy'])"
      ],
      "execution_count": 0,
      "outputs": []
    },
    {
      "metadata": {
        "id": "3bwOp-AKGcNY",
        "colab_type": "text"
      },
      "cell_type": "markdown",
      "source": [
        "Vamos então treinar nosso modelo. Seguimos o mesmo padrão do *scikit-learn*, ou seja, chamamos o método `fit` com os dados de treinamento `Xnn` e `y_oe`. Iremos treinar com os seguintes argumentos: `batch_size=200, epochs=10`. Se quiser ter um relatório detalhado do progresso, adicione `verbose=2`."
      ]
    },
    {
      "metadata": {
        "id": "2g-NfDiAGcNZ",
        "colab_type": "code",
        "colab": {
          "base_uri": "https://localhost:8080/",
          "height": 395
        },
        "outputId": "ca1964e7-9677-4b91-a18e-2610789b90d0"
      },
      "cell_type": "code",
      "source": [
        "model.fit(Xnn, y_oe, epochs=10, batch_size=200, verbose=2)"
      ],
      "execution_count": 32,
      "outputs": [
        {
          "output_type": "stream",
          "text": [
            "Epoch 1/10\n",
            " - 6s - loss: 0.2742 - acc: 0.9194\n",
            "Epoch 2/10\n",
            " - 6s - loss: 0.1070 - acc: 0.9681\n",
            "Epoch 3/10\n",
            " - 6s - loss: 0.0690 - acc: 0.9797\n",
            "Epoch 4/10\n",
            " - 6s - loss: 0.0494 - acc: 0.9847\n",
            "Epoch 5/10\n",
            " - 6s - loss: 0.0356 - acc: 0.9893\n",
            "Epoch 6/10\n",
            " - 6s - loss: 0.0267 - acc: 0.9920\n",
            "Epoch 7/10\n",
            " - 6s - loss: 0.0201 - acc: 0.9943\n",
            "Epoch 8/10\n",
            " - 6s - loss: 0.0152 - acc: 0.9956\n",
            "Epoch 9/10\n",
            " - 6s - loss: 0.0114 - acc: 0.9967\n",
            "Epoch 10/10\n",
            " - 6s - loss: 0.0088 - acc: 0.9978\n"
          ],
          "name": "stdout"
        },
        {
          "output_type": "execute_result",
          "data": {
            "text/plain": [
              "<keras.callbacks.History at 0x7fce609132e8>"
            ]
          },
          "metadata": {
            "tags": []
          },
          "execution_count": 32
        }
      ]
    },
    {
      "metadata": {
        "id": "IOqdrhuBGcNg",
        "colab_type": "text"
      },
      "cell_type": "markdown",
      "source": [
        "**Exercício**: Use o método [`model.evaluate`](https://keras.io/models/model/#evaluate) para avaliar a rede neural treinada e avalie seus resultados levando em conta a mesma situação da Parte 1 (leitura de número com 5 dígitos)."
      ]
    },
    {
      "metadata": {
        "id": "pg-HAMp4GcNj",
        "colab_type": "code",
        "colab": {
          "base_uri": "https://localhost:8080/",
          "height": 53
        },
        "outputId": "90370f4b-88ca-4598-9218-a09babc10ff8"
      },
      "cell_type": "code",
      "source": [
        "model.evaluate(Xtnn, yt_oe)"
      ],
      "execution_count": 33,
      "outputs": [
        {
          "output_type": "stream",
          "text": [
            "10000/10000 [==============================] - 1s 110us/step\n"
          ],
          "name": "stdout"
        },
        {
          "output_type": "execute_result",
          "data": {
            "text/plain": [
              "[0.07507649100208728, 0.982]"
            ]
          },
          "metadata": {
            "tags": []
          },
          "execution_count": 33
        }
      ]
    },
    {
      "metadata": {
        "id": "fI-OQwyDXw2s",
        "colab_type": "code",
        "colab": {
          "base_uri": "https://localhost:8080/",
          "height": 35
        },
        "outputId": "befcaf18-be81-4426-e98d-caa13a00f886"
      },
      "cell_type": "code",
      "source": [
        "0.982**5"
      ],
      "execution_count": 34,
      "outputs": [
        {
          "output_type": "execute_result",
          "data": {
            "text/plain": [
              "0.913182202990432"
            ]
          },
          "metadata": {
            "tags": []
          },
          "execution_count": 34
        }
      ]
    },
    {
      "metadata": {
        "id": "wwvJBdMdGcNl",
        "colab_type": "text"
      },
      "cell_type": "markdown",
      "source": [
        "Agora os resultados seriam ainda melhores, pois a nossa chance de acerto aumentaria de 67% para 90%. Com isso, podemos verificar o benefício da utilização de redes neurais.\n",
        "\n"
      ]
    },
    {
      "metadata": {
        "id": "DEokGiMOGcNm",
        "colab_type": "text"
      },
      "cell_type": "markdown",
      "source": [
        "# Parte 3 - Redes Convolucionais"
      ]
    },
    {
      "metadata": {
        "id": "hyRR8AV7GcNn",
        "colab_type": "text"
      },
      "cell_type": "markdown",
      "source": [
        "Redes convolucionais são redes neurais cujas camadas fazem operações que podem ser interpretadas como processamentos de imagens.\n",
        "\n",
        "* Conv2D - equivale a uma convolução, ou seja, uma combinação linear dos pixels na vizinhança de cada pixel\n",
        "* MaxPooling2d - equivale a redimensionar a imagem para metade de sua altura e largura.\n",
        "* Flatten - transforma a imagem em um vetor unidimensional. \n",
        "\n",
        "Redes Convolucionais são, normalmente, bastante complexas. Por isto nesta parte da atividade iremos trabalhar em cima de uma rede pré-configurada. Nossos exercícios serão treiná-la com um número crescente de épocas e adicionar ou remover camadas. \n",
        "\n",
        "Veja abaixo uma rede contendo uma camada de cada um dos tipos mostrados acima. "
      ]
    },
    {
      "metadata": {
        "id": "sYpBnBC0GcNp",
        "colab_type": "code",
        "colab": {}
      },
      "cell_type": "code",
      "source": [
        "from keras.layers.convolutional import Conv2D\n",
        "from keras.layers.convolutional import MaxPooling2D\n",
        "from keras.layers import Flatten\n",
        "from keras import backend as K\n",
        "K.set_image_dim_ordering('th')\n",
        "\n",
        "model_cnn = Sequential()\n",
        "model_cnn.add(Conv2D(32, (5, 5), input_shape=(1, 28, 28), activation='relu'))\n",
        "model_cnn.add(MaxPooling2D(pool_size=(2, 2)))\n",
        "model_cnn.add(Flatten())\n",
        "model_cnn.add(Dense(128, activation='relu'))\n",
        "model_cnn.add(Dense(10, activation='softmax'))\n",
        "model_cnn.compile(loss='categorical_crossentropy', optimizer='adam', metrics=['accuracy'])"
      ],
      "execution_count": 0,
      "outputs": []
    },
    {
      "metadata": {
        "id": "_GjaYDz_GcNr",
        "colab_type": "text"
      },
      "cell_type": "markdown",
      "source": [
        "Assim como a rede anterior, este modelo depende dos dados estarem em um formato específico. As imagens devem estar no formato $(C, H, W)$, onde $C$ é o número de canais (1 para níveis de cinza, 3 para RGB) e $H$ e $W$ são a altura e largura da imagem. O treinamento é feito usando o método `model_cnn.fit`, igual ao exercício anterior.\n",
        "\n",
        "**Exercício**: faça o treinamento da rede acima para 1 época."
      ]
    },
    {
      "metadata": {
        "id": "-JvjCdbGGcNs",
        "colab_type": "code",
        "colab": {
          "base_uri": "https://localhost:8080/",
          "height": 53
        },
        "outputId": "7286ae7f-05fc-4cf9-c5bc-d8cbb45d4a40"
      },
      "cell_type": "code",
      "source": [
        "Xcnn = Xnn.reshape(Xnn.shape[0], 1, 28, 28).astype('float32')\n",
        "Xtcnn = Xtnn.reshape(Xtnn.shape[0], 1, 28, 28).astype('float32')\n",
        "\n",
        "model_cnn.fit(Xcnn, y_oe, validation_data=(Xtcnn, yt_oe), batch_size=200, verbose=2, epochs=1)"
      ],
      "execution_count": 0,
      "outputs": [
        {
          "output_type": "stream",
          "text": [
            "Train on 60000 samples, validate on 10000 samples\n",
            "Epoch 1/1\n"
          ],
          "name": "stdout"
        }
      ]
    },
    {
      "metadata": {
        "id": "sntjZFREGcNv",
        "colab_type": "text"
      },
      "cell_type": "markdown",
      "source": [
        "**Exercício**: faça agora o treinamento para 10 épocas. Os resultados melhoraram?"
      ]
    },
    {
      "metadata": {
        "id": "RnH9AtC-GcNw",
        "colab_type": "code",
        "colab": {}
      },
      "cell_type": "code",
      "source": [
        "model_cnn.fit(Xcnn, y_oe, validation_data=(Xtcnn, yt_oe), batch_size=200, verbose=2, epochs=10)"
      ],
      "execution_count": 0,
      "outputs": []
    },
    {
      "metadata": {
        "id": "4kJEWKmjGcN2",
        "colab_type": "text"
      },
      "cell_type": "markdown",
      "source": [
        "**Exercício**: Os parâmetros de uma camada `Conv2D` são\n",
        "\n",
        "1. o número de filtors de convolução usados\n",
        "1. a dimensão dos filtros (como uma tupla)\n",
        "1. a função de ativação (sempre usaremos 'relu')\n",
        "\n",
        "Crie um novo modelo com uma camada de convolução a mais após a camada de `MaxPooling`. Seu modelo deverá fazer 20 convoluções na primeira camada e 20 na segunda. Treine uma época do modelo e compare com o modelo de exemplos. Os resultados são melhores? E se 10 épocas forem executadas?"
      ]
    },
    {
      "metadata": {
        "id": "t_kLNq0wGcN3",
        "colab_type": "code",
        "colab": {}
      },
      "cell_type": "code",
      "source": [
        ""
      ],
      "execution_count": 0,
      "outputs": []
    },
    {
      "metadata": {
        "id": "28Hyxer1GcN5",
        "colab_type": "text"
      },
      "cell_type": "markdown",
      "source": [
        "**Exercício**: Os parâmetros de uma camada `MaxPooling2D` são\n",
        "\n",
        "1. uma tupla contendo a vizinhança usada para fazer o redimensionamento. \n",
        "\n",
        "Crie um novo modelo baseado no acima que adiciona uma camada deste tipo com os mesmos parâmetros da primeira após a segunda convolução e treine uma época dele. Os resultados são melhores? E com 10 épocas? Como o tempo de treinamento é afetado?"
      ]
    },
    {
      "metadata": {
        "id": "cqNybHBvGcN6",
        "colab_type": "code",
        "colab": {}
      },
      "cell_type": "code",
      "source": [
        ""
      ],
      "execution_count": 0,
      "outputs": []
    },
    {
      "metadata": {
        "id": "3IeWv3PRGcN_",
        "colab_type": "text"
      },
      "cell_type": "markdown",
      "source": [
        "Testar diversas arquiteturas é uma tarefa muito comum em Visão Computacional. \n",
        "\n",
        "**Exercício**: Compare os resultados de sua melhor rede com os resultados das duas partes anteriores. Qual foi o ganho de acurácia no problema da leitura do número com 5 dígitos?"
      ]
    },
    {
      "metadata": {
        "id": "kJlrFBShGcOA",
        "colab_type": "text"
      },
      "cell_type": "markdown",
      "source": [
        "*Sua resposta aqui*"
      ]
    },
    {
      "metadata": {
        "id": "krYrMRs_GcOB",
        "colab_type": "text"
      },
      "cell_type": "markdown",
      "source": [
        "# Parte final\n",
        "\n",
        "**Exercício**: tire uma foto de 5 números escritos à mão por você. Separe cada um dos números, redimensione-os para uma imagem $28\\times 28$, passe cada um pelo seu melhor modelo desta aula e retorne a leitura do número por inteiro.\n",
        "\n",
        "**Dica**: sua foto pode conter somente a folha em branco e os dígitos em preto. Você pode supor que nenhuma parte de um dígito encosta no outro e que a imagem é binarizável usando uma operação simples de limiar (*threshold*)."
      ]
    },
    {
      "metadata": {
        "id": "PiUku9_GGcOC",
        "colab_type": "code",
        "colab": {}
      },
      "cell_type": "code",
      "source": [
        ""
      ],
      "execution_count": 0,
      "outputs": []
    }
  ]
}
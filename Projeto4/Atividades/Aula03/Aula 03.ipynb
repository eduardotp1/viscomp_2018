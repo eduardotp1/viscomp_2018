{
 "cells": [
  {
   "cell_type": "markdown",
   "metadata": {},
   "source": [
    "# Aula 03\n",
    "\n",
    "## Calibração de Câmera\n",
    "\n",
    "Em aulas anteriores vimos que uma câmera pode ser representada por duas matrizes que modelam seus parâmetros intrínsecos e extrínsecos. O problema é que para os exercícios nós assumimos que esses parâmetros são conhecidos, mas no mundo real isso dificilmente acontece.\n",
    "\n",
    "Nesta atividade aprenderemos como obter uma estimativa desses parâmetros através de um processo de calibração.\n",
    "\n",
    "### Observações Importantes (leia antes de continuar!)\n",
    "\n",
    "Muitas câmeras possuem uma opção de auto foco. Você deve **desabilitar o auto foco da sua câmera antes de realizar a calibração**. Caso contrário os parâmetros vão mudar a todo instante.\n",
    "\n",
    "## Calibração com tabuleiros ChArUco\n",
    "\n",
    "*ChArUco* é a união dos termos *chessboard* e *ArUco* e é essencialmente o que o nome diz: um tabuleiro de xadrez com marcadores ArUco. O tabuleiro ChArUco é utilizado por ser facilmente detectado em uma imagem e os marcadores são utilizados para aprimorar a detecção dos cantos.\n",
    "\n",
    "O OpenCV já possui funções prontas para calibrar a câmera usando um tabuleiro ChArUco.\n",
    "\n",
    "## Intuição\n",
    "\n",
    "Diferentemente das outras atividades, não vamos implementar a calibração \"na mão\", mas gostaria de apresentar uma breve intuição do processo de calibração. Como vimos anteriormente, a projeção de um ponto 3D na imagem de uma câmera pode ser representada por uma sequência de multiplicações de matrizes:\n",
    "\n",
    "$$\n",
    "\\begin{pmatrix}\n",
    "P'_x \\\\\n",
    "P'_y \\\\\n",
    "1\n",
    "\\end{pmatrix}\n",
    "=\n",
    "\\begin{pmatrix}\n",
    "f_x & 0 & p_x & 0 \\\\\n",
    "0 & f_y & p_y & 0 \\\\\n",
    "0 & 0 & 1 & 0\n",
    "\\end{pmatrix}\n",
    "\\begin{pmatrix}\n",
    "E_{11} & E_{12} & E_{13} & E_{14} \\\\\n",
    "E_{21} & E_{22} & E_{23} & E_{24} \\\\\n",
    "E_{31} & E_{32} & E_{33} & E_{34} \\\\\n",
    "0 & 0 & 0 & 1\n",
    "\\end{pmatrix}\n",
    "\\begin{pmatrix}\n",
    "P_x \\\\\n",
    "P_y \\\\\n",
    "P_z \\\\\n",
    "1\n",
    "\\end{pmatrix}\n",
    "$$\n",
    "\n",
    "Onde $P'$ é o ponto na imagem, em pixels, $f$ é a distância focal, $p$ é o ponto principal, $E$ é a matriz de parâmetros extrínsecos e $P$ é o ponto em 3D que será projetado na imagem. Se multiplicarmos as matrizes de parâmetros intrínsecos e extrínsecos, temos:\n",
    "\n",
    "$$\n",
    "\\begin{pmatrix}\n",
    "P'_x \\\\\n",
    "P'_y \\\\\n",
    "1\n",
    "\\end{pmatrix}\n",
    "=\n",
    "\\begin{pmatrix}\n",
    "C_{11} & C_{12} & C_{13} & C_{14} \\\\\n",
    "C_{21} & C_{22} & C_{23} & C_{24} \\\\\n",
    "C_{31} & C_{32} & C_{33} & C_{34}\n",
    "\\end{pmatrix}\n",
    "\\begin{pmatrix}\n",
    "P_x \\\\\n",
    "P_y \\\\\n",
    "P_z \\\\\n",
    "1\n",
    "\\end{pmatrix}\n",
    "$$\n",
    "\n",
    "Onde $C$ é o resultado da multiplicação das duas matrizes. Se tivermos pares de pontos $P$ e $P'$ (pontos no espaço e a sua projeção na imagem) suficientes podemos montar um sistema de equações lineares como fizemos anteriormente para o cálculo de homografias.\n",
    "\n",
    "Entretanto, como podemos obter esses pares de pontos? Aí que entram os tabuleiros ChArUco! Em um tabuleiro ChArUco sabemos a localização de cada canto de cada marcador e de cada quadrado. Então já temos a posição $P_x$ e $P_y$ de diversos pontos, mas e a coordenada $P_z$? O tabuleiro inteiro está contido em um mesmo plano. Então podemos usar a mesma coordenada $P_z = 0$ para todos eles. Assim, os parâmetros extrínsecos serão responsáveis por mover o tabuleiro no plano $XY$ para a sua posição com relação à câmera com centro de projeção na origem.\n",
    "\n",
    "Ufa, acabamos! Se você não entendeu direito o que discutimos até aqui, não se preocupe! Talvez a prática com código ajude. Como eu disse antes, muito do que precisamos já está implementado em funções do OpenCV."
   ]
  },
  {
   "cell_type": "markdown",
   "metadata": {},
   "source": [
    "## Obtendo os pontos de referência \n",
    "\n",
    "O primeiro passo é obter os pontos de referência. Para isso, salve algumas imagens com o tabuleiro em diferentes posições e distâncias. Tente obter imagens distribuindo o tabuleiro o máximo possível em posições e orientações diferentes.\n",
    "\n",
    "<img src=\"arucocalibration.png\" alt=\"Fonte: https://docs.opencv.org/3.4.3/da/d13/tutorial_aruco_calibration.html\"/>\n",
    "\n",
    "Para cada imagem, verifique que o OpenCV é capaz de detectar pelo menos 4 marcadores do tabuleiro ChArUco. Guarde as posições dos marcadores em uma lista e os IDs em outra lista.\n",
    "\n",
    "Depois que tiver guardado as posições dos marcadores em todas as fotos, execute a função de calibração do OpenCV (`cv2.aruco.calibrateCameraCharuco`). Salve o resultado da calibração em um arquivo para não ter que calibrar todas as vezes.\n",
    "\n",
    "## Funções úteis do OpenCV\n",
    "\n",
    "As seguintes funções podem ser úteis para essa atividade:\n",
    "\n",
    "- `cv2.aruco.getPredefinedDictionary`\n",
    "- `cv2.aruco.CharucoBoard_create`\n",
    "- `cv2.aruco.detectMarkers`\n",
    "- `cv2.aruco.interpolateCornersCharuco`\n",
    "- `cv2.aruco.calibrateCameraCharuco`\n",
    "- `cv2.aruco.estimatePoseCharucoBoard`\n",
    "- `cv2.aruco.drawAxis`\n",
    "\n",
    "Além disso, os links no final do notebook podem ajudar bastante."
   ]
  },
  {
   "cell_type": "markdown",
   "metadata": {},
   "source": [
    "# Atividade\n",
    "\n",
    "1. Utilize o OpenCV para capturar pelo menos 10 imagens com o tabuleiro ChArUco em posições e orientações diferentes.\n",
    "  1. Para cada imagem, detecte os marcadores ArUco\n",
    "  2. Encontre os cantos do tabuleiro ChArUco, refinando a detecção (`cv2.aruco.interpolateCornersCharuco`)\n",
    "  3. Guarde os cantos e os IDs em listas\n",
    "2. Calibre a câmera com os pontos detectados em todas as imagens\n",
    "3. Salve o resultado da calibração em um arquivo\n",
    "4. Faça um programa que carrega a calibração da sua câmera, estima a pose (posição e orientação) do tabuleiro ChArUco e desenha os eixos (`cv2.aruco.drawAxis`).\n",
    "\n",
    "<img src=\"chaxis.png\">\n",
    "\n",
    "## Desafios\n",
    "\n",
    "Carregue o objeto da atividade da segunda aula (`teapot.obj`) e mostre-o sobre o tabuleiro utilizando a pose estimada pelo OpenCV. A função `cv2.projectPoints` pode ser útil para esse desafio.\n",
    "\n",
    "<img src=\"example.png\">"
   ]
  },
  {
   "cell_type": "code",
   "execution_count": 1,
   "metadata": {},
   "outputs": [],
   "source": [
    "# Item 1\n",
    "# Mostre aqui pelo menos uma imagem com o tabuleiro detectado\n"
   ]
  },
  {
   "cell_type": "code",
   "execution_count": 2,
   "metadata": {},
   "outputs": [],
   "source": [
    "# Itens 2 e 3\n",
    "# Imprima aqui os resultados da calibração\n"
   ]
  },
  {
   "cell_type": "code",
   "execution_count": 3,
   "metadata": {},
   "outputs": [],
   "source": [
    "# Item 4\n",
    "# Estime a pose do tabuleiro e desenhe os eixos (XYZ)\n"
   ]
  },
  {
   "cell_type": "markdown",
   "metadata": {},
   "source": [
    "## Referências\n",
    "\n",
    "- Multiple View Geometry in Computer Vision. Hartley, R. e Zisserman, A. Capítulo 7.\n",
    "- Computer Vision. Szeliski, R. Capítulo 6.\n",
    "- https://docs.opencv.org/3.1.0/df/d4a/tutorial_charuco_detection.html\n",
    "- https://docs.opencv.org/3.4.3/da/d13/tutorial_aruco_calibration.html\n",
    "- http://answers.opencv.org/question/98447/camera-calibration-using-charuco-and-python/\n",
    "\n",
    "Algumas imagens utilizadas foram extraídas de: https://docs.opencv.org/3.1.0/df/d4a/tutorial_charuco_detection.html"
   ]
  }
 ],
 "metadata": {
  "kernelspec": {
   "display_name": "Python 3",
   "language": "python",
   "name": "python3"
  },
  "language_info": {
   "codemirror_mode": {
    "name": "ipython",
    "version": 3
   },
   "file_extension": ".py",
   "mimetype": "text/x-python",
   "name": "python",
   "nbconvert_exporter": "python",
   "pygments_lexer": "ipython3",
   "version": "3.6.6"
  }
 },
 "nbformat": 4,
 "nbformat_minor": 2
}
